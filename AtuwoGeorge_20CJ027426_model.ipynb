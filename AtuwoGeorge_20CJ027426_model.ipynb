{
 "cells": [
  {
   "cell_type": "code",
   "execution_count": null,
   "id": "e208ce9d",
   "metadata": {
    "vscode": {
     "languageId": "plaintext"
    }
   },
   "outputs": [],
   "source": [
    "import pandas as pd\n",
    "import numpy as np\n",
    "from sklearn.model_selection import train_test_split\n",
    "from sklearn.preprocessing import MinMaxScaler\n",
    "from sklearn.metrics import mean_squared_error\n",
    "\n",
    "# Load the synthetic IP phone dataset\n",
    "df = pd.read_csv(\"synthetic_ip_phone_data.csv\")\n",
    "print(df.columns)  # Check column names\n",
    "df = df.dropna()   # Drop rows with missing values\n",
    "\n",
    "# Extract features and target (update column names as per your CSV)\n",
    "X = df[[\"Call_Duration\", \"Dropped_Calls\"]].values  # Update if needed\n",
    "y = df[\"Quality_Score\"].values.reshape(-1, 1)      # Update if needed\n",
    "\n",
    "# Normalize the design matrix\n",
    "scaler = MinMaxScaler()\n",
    "X_normalized = scaler.fit_transform(X)\n",
    "\n",
    "# Add intercept (bias) term to X matrix\n",
    "X_design = np.hstack([np.ones((X_normalized.shape[0], 1)), X_normalized])\n",
    "\n",
    "# Train-test split\n",
    "X_train, X_test, y_train, y_test = train_test_split(X_design, y, test_size=0.2, random_state=42)\n",
    "\n",
    "# Cost function\n",
    "def compute_cost(X, y, theta):\n",
    "    m = len(y)\n",
    "    predictions = X.dot(theta)\n",
    "    cost = (1 / (2 * m)) * np.sum((predictions - y) ** 2)\n",
    "    return cost\n",
    "\n",
    "# Gradient descent\n",
    "def gradient_descent(X, y, theta, learning_rate=0.01, iterations=1000):\n",
    "    m = len(y)\n",
    "    cost_history = []\n",
    "\n",
    "    for _ in range(iterations):\n",
    "        predictions = X.dot(theta)\n",
    "        errors = predictions - y\n",
    "        gradient = (1 / m) * X.T.dot(errors)\n",
    "        theta -= learning_rate * gradient\n",
    "        cost_history.append(compute_cost(X, y, theta))\n",
    "\n",
    "    return theta, cost_history\n",
    "\n",
    "# Initialize theta (weights)\n",
    "theta = np.zeros((X_design.shape[1], 1))\n",
    "\n",
    "# Train model using gradient descent\n",
    "theta_final, cost_history = gradient_descent(X_train, y_train, theta)\n",
    "\n",
    "# Test the model\n",
    "predictions = X_test.dot(theta_final)\n",
    "mse = mean_squared_error(y_test.flatten(), predictions.flatten())\n",
    "\n",
    "print(\"MSE on Test Set:\", mse)"
   ]
  }
 ],
 "metadata": {
  "language_info": {
   "name": "python"
  }
 },
 "nbformat": 4,
 "nbformat_minor": 5
}
